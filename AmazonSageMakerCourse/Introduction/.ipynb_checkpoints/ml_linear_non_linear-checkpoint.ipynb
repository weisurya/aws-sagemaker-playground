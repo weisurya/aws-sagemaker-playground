{
 "cells": [
  {
   "cell_type": "markdown",
   "metadata": {},
   "source": [
    "<h2>Linear, Non-Linear Examples</h2>\n",
    "\n",
    "Objective: visualize linear, quadratic, cubic, exponential, log, sine functions on a plot"
   ]
  },
  {
   "cell_type": "code",
   "execution_count": 1,
   "metadata": {},
   "outputs": [],
   "source": [
    "%matplotlib inline\n",
    "import numpy as np\n",
    "import pandas as pd\n",
    "import matplotlib.pyplot as plt\n",
    "import math"
   ]
  },
  {
   "cell_type": "code",
   "execution_count": 2,
   "metadata": {},
   "outputs": [],
   "source": [
    "def log_func(x):\n",
    "    if x > 0:\n",
    "        return math.log(x,10)\n",
    "    else:\n",
    "        return np.nan"
   ]
  },
  {
   "cell_type": "code",
   "execution_count": 3,
   "metadata": {},
   "outputs": [],
   "source": [
    "df = pd.DataFrame(index=range(-200,200))"
   ]
  },
  {
   "cell_type": "code",
   "execution_count": 4,
   "metadata": {},
   "outputs": [
    {
     "data": {
      "text/plain": [
       "(400, 0)"
      ]
     },
     "execution_count": 4,
     "metadata": {},
     "output_type": "execute_result"
    }
   ],
   "source": [
    "df.shape"
   ]
  },
  {
   "cell_type": "code",
   "execution_count": 5,
   "metadata": {},
   "outputs": [],
   "source": [
    "title = ['Linear 3*X','Quadratic X^2',\n",
    "         'Cubic X^3','Absolute abs(X)',\n",
    "         'sine(X)','log(X)',\n",
    "         'Exponential 2^X']\n",
    "\n",
    "df['linear']=df.index.map(lambda x: 3*x)\n",
    "df['quadratic'] = df.index.map(lambda x: x**2)\n",
    "df['cubic'] = df.index.map(lambda x: x**3)\n",
    "df['abs'] = df.index.map(lambda x: abs(x))\n",
    "df['sine'] = np.sin(np.arange(-20,20,.1))\n",
    "df['log'] = df.index.map(log_func)\n",
    "df['exponential'] = df.index.map(lambda x: 2.0**x)"
   ]
  },
  {
   "cell_type": "code",
   "execution_count": 6,
   "metadata": {},
   "outputs": [
    {
     "data": {
      "text/html": [
       "<div>\n",
       "<style scoped>\n",
       "    .dataframe tbody tr th:only-of-type {\n",
       "        vertical-align: middle;\n",
       "    }\n",
       "\n",
       "    .dataframe tbody tr th {\n",
       "        vertical-align: top;\n",
       "    }\n",
       "\n",
       "    .dataframe thead th {\n",
       "        text-align: right;\n",
       "    }\n",
       "</style>\n",
       "<table border=\"1\" class=\"dataframe\">\n",
       "  <thead>\n",
       "    <tr style=\"text-align: right;\">\n",
       "      <th></th>\n",
       "      <th>linear</th>\n",
       "      <th>quadratic</th>\n",
       "      <th>cubic</th>\n",
       "      <th>abs</th>\n",
       "      <th>sine</th>\n",
       "      <th>log</th>\n",
       "      <th>exponential</th>\n",
       "    </tr>\n",
       "  </thead>\n",
       "  <tbody>\n",
       "    <tr>\n",
       "      <th>-200</th>\n",
       "      <td>-600</td>\n",
       "      <td>40000</td>\n",
       "      <td>-8000000</td>\n",
       "      <td>200</td>\n",
       "      <td>-0.912945</td>\n",
       "      <td>NaN</td>\n",
       "      <td>6.223015e-61</td>\n",
       "    </tr>\n",
       "    <tr>\n",
       "      <th>-199</th>\n",
       "      <td>-597</td>\n",
       "      <td>39601</td>\n",
       "      <td>-7880599</td>\n",
       "      <td>199</td>\n",
       "      <td>-0.867644</td>\n",
       "      <td>NaN</td>\n",
       "      <td>1.244603e-60</td>\n",
       "    </tr>\n",
       "    <tr>\n",
       "      <th>-198</th>\n",
       "      <td>-594</td>\n",
       "      <td>39204</td>\n",
       "      <td>-7762392</td>\n",
       "      <td>198</td>\n",
       "      <td>-0.813674</td>\n",
       "      <td>NaN</td>\n",
       "      <td>2.489206e-60</td>\n",
       "    </tr>\n",
       "    <tr>\n",
       "      <th>-197</th>\n",
       "      <td>-591</td>\n",
       "      <td>38809</td>\n",
       "      <td>-7645373</td>\n",
       "      <td>197</td>\n",
       "      <td>-0.751573</td>\n",
       "      <td>NaN</td>\n",
       "      <td>4.978412e-60</td>\n",
       "    </tr>\n",
       "    <tr>\n",
       "      <th>-196</th>\n",
       "      <td>-588</td>\n",
       "      <td>38416</td>\n",
       "      <td>-7529536</td>\n",
       "      <td>196</td>\n",
       "      <td>-0.681964</td>\n",
       "      <td>NaN</td>\n",
       "      <td>9.956824e-60</td>\n",
       "    </tr>\n",
       "  </tbody>\n",
       "</table>\n",
       "</div>"
      ],
      "text/plain": [
       "      linear  quadratic    cubic  abs      sine  log   exponential\n",
       "-200    -600      40000 -8000000  200 -0.912945  NaN  6.223015e-61\n",
       "-199    -597      39601 -7880599  199 -0.867644  NaN  1.244603e-60\n",
       "-198    -594      39204 -7762392  198 -0.813674  NaN  2.489206e-60\n",
       "-197    -591      38809 -7645373  197 -0.751573  NaN  4.978412e-60\n",
       "-196    -588      38416 -7529536  196 -0.681964  NaN  9.956824e-60"
      ]
     },
     "execution_count": 6,
     "metadata": {},
     "output_type": "execute_result"
    }
   ],
   "source": [
    "df.head()"
   ]
  },
  {
   "cell_type": "code",
   "execution_count": 7,
   "metadata": {},
   "outputs": [
    {
     "data": {
      "text/html": [
       "<div>\n",
       "<style scoped>\n",
       "    .dataframe tbody tr th:only-of-type {\n",
       "        vertical-align: middle;\n",
       "    }\n",
       "\n",
       "    .dataframe tbody tr th {\n",
       "        vertical-align: top;\n",
       "    }\n",
       "\n",
       "    .dataframe thead th {\n",
       "        text-align: right;\n",
       "    }\n",
       "</style>\n",
       "<table border=\"1\" class=\"dataframe\">\n",
       "  <thead>\n",
       "    <tr style=\"text-align: right;\">\n",
       "      <th></th>\n",
       "      <th>linear</th>\n",
       "      <th>quadratic</th>\n",
       "      <th>cubic</th>\n",
       "      <th>abs</th>\n",
       "      <th>sine</th>\n",
       "      <th>log</th>\n",
       "      <th>exponential</th>\n",
       "    </tr>\n",
       "  </thead>\n",
       "  <tbody>\n",
       "    <tr>\n",
       "      <th>195</th>\n",
       "      <td>585</td>\n",
       "      <td>38025</td>\n",
       "      <td>7414875</td>\n",
       "      <td>195</td>\n",
       "      <td>0.605540</td>\n",
       "      <td>2.290035</td>\n",
       "      <td>5.021681e+58</td>\n",
       "    </tr>\n",
       "    <tr>\n",
       "      <th>196</th>\n",
       "      <td>588</td>\n",
       "      <td>38416</td>\n",
       "      <td>7529536</td>\n",
       "      <td>196</td>\n",
       "      <td>0.681964</td>\n",
       "      <td>2.292256</td>\n",
       "      <td>1.004336e+59</td>\n",
       "    </tr>\n",
       "    <tr>\n",
       "      <th>197</th>\n",
       "      <td>591</td>\n",
       "      <td>38809</td>\n",
       "      <td>7645373</td>\n",
       "      <td>197</td>\n",
       "      <td>0.751573</td>\n",
       "      <td>2.294466</td>\n",
       "      <td>2.008673e+59</td>\n",
       "    </tr>\n",
       "    <tr>\n",
       "      <th>198</th>\n",
       "      <td>594</td>\n",
       "      <td>39204</td>\n",
       "      <td>7762392</td>\n",
       "      <td>198</td>\n",
       "      <td>0.813674</td>\n",
       "      <td>2.296665</td>\n",
       "      <td>4.017345e+59</td>\n",
       "    </tr>\n",
       "    <tr>\n",
       "      <th>199</th>\n",
       "      <td>597</td>\n",
       "      <td>39601</td>\n",
       "      <td>7880599</td>\n",
       "      <td>199</td>\n",
       "      <td>0.867644</td>\n",
       "      <td>2.298853</td>\n",
       "      <td>8.034690e+59</td>\n",
       "    </tr>\n",
       "  </tbody>\n",
       "</table>\n",
       "</div>"
      ],
      "text/plain": [
       "     linear  quadratic    cubic  abs      sine       log   exponential\n",
       "195     585      38025  7414875  195  0.605540  2.290035  5.021681e+58\n",
       "196     588      38416  7529536  196  0.681964  2.292256  1.004336e+59\n",
       "197     591      38809  7645373  197  0.751573  2.294466  2.008673e+59\n",
       "198     594      39204  7762392  198  0.813674  2.296665  4.017345e+59\n",
       "199     597      39601  7880599  199  0.867644  2.298853  8.034690e+59"
      ]
     },
     "execution_count": 7,
     "metadata": {},
     "output_type": "execute_result"
    }
   ],
   "source": [
    "df.tail()"
   ]
  },
  {
   "cell_type": "code",
   "execution_count": null,
   "metadata": {},
   "outputs": [],
   "source": [
    "fig, axs = plt.subplots(2, 2, figsize=(10, 10), sharex=False)\n",
    "axx = axs.ravel()\n",
    "for i in range(df.shape[1]-3):\n",
    "    axx[i].set_title(title[i])\n",
    "    df[df.columns[i]].plot(ax=axx[i])\n",
    "    axx[i].set_xlabel('X')\n",
    "    if i % 2 == 1 :\n",
    "        axx[i].yaxis.tick_right()\n",
    "    axx[i].grid()"
   ]
  },
  {
   "cell_type": "code",
   "execution_count": null,
   "metadata": {
    "scrolled": true
   },
   "outputs": [],
   "source": [
    "plt.figure(figsize=(10,3))\n",
    "plt.plot(df['exponential'])\n",
    "plt.title('Exponential 2^X')\n",
    "plt.xlim(-10,20)\n",
    "plt.ylim(0,100000)\n",
    "plt.xlabel('X')\n",
    "plt.grid()"
   ]
  },
  {
   "cell_type": "code",
   "execution_count": null,
   "metadata": {},
   "outputs": [],
   "source": [
    "plt.figure(figsize=(10,3))\n",
    "plt.plot(df['log'])\n",
    "plt.title('Log(X)')\n",
    "plt.xlim(-10,200)\n",
    "plt.xlabel('X')\n",
    "plt.grid()"
   ]
  },
  {
   "cell_type": "code",
   "execution_count": null,
   "metadata": {},
   "outputs": [],
   "source": [
    "plt.figure(figsize=(10,3))\n",
    "plt.plot(np.arange(-20,20,.1), df['sine'])\n",
    "plt.title('Sine(X)')\n",
    "plt.xlabel('X')\n",
    "plt.grid()"
   ]
  },
  {
   "cell_type": "code",
   "execution_count": null,
   "metadata": {},
   "outputs": [],
   "source": []
  }
 ],
 "metadata": {
  "kernelspec": {
   "display_name": "conda_python3",
   "language": "python",
   "name": "conda_python3"
  },
  "language_info": {
   "codemirror_mode": {
    "name": "ipython",
    "version": 3
   },
   "file_extension": ".py",
   "mimetype": "text/x-python",
   "name": "python",
   "nbconvert_exporter": "python",
   "pygments_lexer": "ipython3",
   "version": "3.6.5"
  }
 },
 "nbformat": 4,
 "nbformat_minor": 1
}
