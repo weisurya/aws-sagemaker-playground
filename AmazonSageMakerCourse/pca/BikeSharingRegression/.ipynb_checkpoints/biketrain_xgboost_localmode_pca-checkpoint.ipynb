{
 "cells": [
  {
   "cell_type": "markdown",
   "metadata": {},
   "source": [
    "## Train  model using PCA Components\n",
    "###  Model is trained with XGBoost installed in notebook instance"
   ]
  },
  {
   "cell_type": "code",
   "execution_count": null,
   "metadata": {},
   "outputs": [],
   "source": [
    "# Install xgboost in notebook instance.\n",
    "#### Command to install xgboost\n",
    "!conda install -y -c conda-forge xgboost"
   ]
  },
  {
   "cell_type": "code",
   "execution_count": 1,
   "metadata": {},
   "outputs": [],
   "source": [
    "%matplotlib inline\n",
    "import sys\n",
    "import numpy as np\n",
    "import pandas as pd\n",
    "import matplotlib.pyplot as plt\n",
    "import xgboost as xgb"
   ]
  },
  {
   "cell_type": "code",
   "execution_count": 2,
   "metadata": {},
   "outputs": [],
   "source": [
    "column_list_file = 'bike_train_column_list_pca.txt'\n",
    "train_file = 'bike_train_pca.csv'\n",
    "validation_file = 'bike_validation_pca.csv'\n",
    "test_file = 'bike_test_pca.csv'"
   ]
  },
  {
   "cell_type": "code",
   "execution_count": 3,
   "metadata": {},
   "outputs": [],
   "source": [
    "columns = ''\n",
    "with open(column_list_file,'r') as f:\n",
    "    columns = f.read().split(',')"
   ]
  },
  {
   "cell_type": "code",
   "execution_count": 4,
   "metadata": {},
   "outputs": [
    {
     "data": {
      "text/plain": [
       "['count',\n",
       " 'season',\n",
       " 'holiday',\n",
       " 'workingday',\n",
       " 'weather',\n",
       " 'year',\n",
       " 'month',\n",
       " 'day',\n",
       " 'dayofweek',\n",
       " 'hour',\n",
       " 'component_0',\n",
       " 'component_1',\n",
       " 'component_2']"
      ]
     },
     "execution_count": 4,
     "metadata": {},
     "output_type": "execute_result"
    }
   ],
   "source": [
    "columns"
   ]
  },
  {
   "cell_type": "code",
   "execution_count": 5,
   "metadata": {},
   "outputs": [],
   "source": [
    "# Specify the column names as the file does not have column header\n",
    "df_train = pd.read_csv(train_file,names=columns)\n",
    "df_validation = pd.read_csv(validation_file,names=columns)"
   ]
  },
  {
   "cell_type": "code",
   "execution_count": 6,
   "metadata": {},
   "outputs": [
    {
     "data": {
      "text/html": [
       "<div>\n",
       "<style scoped>\n",
       "    .dataframe tbody tr th:only-of-type {\n",
       "        vertical-align: middle;\n",
       "    }\n",
       "\n",
       "    .dataframe tbody tr th {\n",
       "        vertical-align: top;\n",
       "    }\n",
       "\n",
       "    .dataframe thead th {\n",
       "        text-align: right;\n",
       "    }\n",
       "</style>\n",
       "<table border=\"1\" class=\"dataframe\">\n",
       "  <thead>\n",
       "    <tr style=\"text-align: right;\">\n",
       "      <th></th>\n",
       "      <th>count</th>\n",
       "      <th>season</th>\n",
       "      <th>holiday</th>\n",
       "      <th>workingday</th>\n",
       "      <th>weather</th>\n",
       "      <th>year</th>\n",
       "      <th>month</th>\n",
       "      <th>day</th>\n",
       "      <th>dayofweek</th>\n",
       "      <th>hour</th>\n",
       "      <th>component_0</th>\n",
       "      <th>component_1</th>\n",
       "      <th>component_2</th>\n",
       "    </tr>\n",
       "  </thead>\n",
       "  <tbody>\n",
       "    <tr>\n",
       "      <th>0</th>\n",
       "      <td>4.477337</td>\n",
       "      <td>3</td>\n",
       "      <td>0</td>\n",
       "      <td>0</td>\n",
       "      <td>2</td>\n",
       "      <td>2011</td>\n",
       "      <td>9</td>\n",
       "      <td>3</td>\n",
       "      <td>5</td>\n",
       "      <td>0</td>\n",
       "      <td>1.081421</td>\n",
       "      <td>-0.937364</td>\n",
       "      <td>-0.014431</td>\n",
       "    </tr>\n",
       "    <tr>\n",
       "      <th>1</th>\n",
       "      <td>5.517453</td>\n",
       "      <td>3</td>\n",
       "      <td>0</td>\n",
       "      <td>1</td>\n",
       "      <td>1</td>\n",
       "      <td>2012</td>\n",
       "      <td>8</td>\n",
       "      <td>13</td>\n",
       "      <td>0</td>\n",
       "      <td>14</td>\n",
       "      <td>2.192260</td>\n",
       "      <td>0.507226</td>\n",
       "      <td>-1.412858</td>\n",
       "    </tr>\n",
       "  </tbody>\n",
       "</table>\n",
       "</div>"
      ],
      "text/plain": [
       "      count  season  holiday  workingday  weather  year  month  day  \\\n",
       "0  4.477337       3        0           0        2  2011      9    3   \n",
       "1  5.517453       3        0           1        1  2012      8   13   \n",
       "\n",
       "   dayofweek  hour  component_0  component_1  component_2  \n",
       "0          5     0     1.081421    -0.937364    -0.014431  \n",
       "1          0    14     2.192260     0.507226    -1.412858  "
      ]
     },
     "execution_count": 6,
     "metadata": {},
     "output_type": "execute_result"
    }
   ],
   "source": [
    "df_train.head(2)"
   ]
  },
  {
   "cell_type": "code",
   "execution_count": 7,
   "metadata": {},
   "outputs": [
    {
     "data": {
      "text/html": [
       "<div>\n",
       "<style scoped>\n",
       "    .dataframe tbody tr th:only-of-type {\n",
       "        vertical-align: middle;\n",
       "    }\n",
       "\n",
       "    .dataframe tbody tr th {\n",
       "        vertical-align: top;\n",
       "    }\n",
       "\n",
       "    .dataframe thead th {\n",
       "        text-align: right;\n",
       "    }\n",
       "</style>\n",
       "<table border=\"1\" class=\"dataframe\">\n",
       "  <thead>\n",
       "    <tr style=\"text-align: right;\">\n",
       "      <th></th>\n",
       "      <th>count</th>\n",
       "      <th>season</th>\n",
       "      <th>holiday</th>\n",
       "      <th>workingday</th>\n",
       "      <th>weather</th>\n",
       "      <th>year</th>\n",
       "      <th>month</th>\n",
       "      <th>day</th>\n",
       "      <th>dayofweek</th>\n",
       "      <th>hour</th>\n",
       "      <th>component_0</th>\n",
       "      <th>component_1</th>\n",
       "      <th>component_2</th>\n",
       "    </tr>\n",
       "  </thead>\n",
       "  <tbody>\n",
       "    <tr>\n",
       "      <th>0</th>\n",
       "      <td>6.095825</td>\n",
       "      <td>3</td>\n",
       "      <td>0</td>\n",
       "      <td>1</td>\n",
       "      <td>2</td>\n",
       "      <td>2011</td>\n",
       "      <td>7</td>\n",
       "      <td>7</td>\n",
       "      <td>3</td>\n",
       "      <td>8</td>\n",
       "      <td>1.511799</td>\n",
       "      <td>-0.648078</td>\n",
       "      <td>0.755707</td>\n",
       "    </tr>\n",
       "    <tr>\n",
       "      <th>1</th>\n",
       "      <td>5.961005</td>\n",
       "      <td>2</td>\n",
       "      <td>0</td>\n",
       "      <td>0</td>\n",
       "      <td>1</td>\n",
       "      <td>2011</td>\n",
       "      <td>6</td>\n",
       "      <td>11</td>\n",
       "      <td>5</td>\n",
       "      <td>13</td>\n",
       "      <td>2.344418</td>\n",
       "      <td>0.211416</td>\n",
       "      <td>-0.073554</td>\n",
       "    </tr>\n",
       "  </tbody>\n",
       "</table>\n",
       "</div>"
      ],
      "text/plain": [
       "      count  season  holiday  workingday  weather  year  month  day  \\\n",
       "0  6.095825       3        0           1        2  2011      7    7   \n",
       "1  5.961005       2        0           0        1  2011      6   11   \n",
       "\n",
       "   dayofweek  hour  component_0  component_1  component_2  \n",
       "0          3     8     1.511799    -0.648078     0.755707  \n",
       "1          5    13     2.344418     0.211416    -0.073554  "
      ]
     },
     "execution_count": 7,
     "metadata": {},
     "output_type": "execute_result"
    }
   ],
   "source": [
    "df_validation.head(2)"
   ]
  },
  {
   "cell_type": "code",
   "execution_count": 8,
   "metadata": {},
   "outputs": [
    {
     "data": {
      "text/html": [
       "<div>\n",
       "<style scoped>\n",
       "    .dataframe tbody tr th:only-of-type {\n",
       "        vertical-align: middle;\n",
       "    }\n",
       "\n",
       "    .dataframe tbody tr th {\n",
       "        vertical-align: top;\n",
       "    }\n",
       "\n",
       "    .dataframe thead th {\n",
       "        text-align: right;\n",
       "    }\n",
       "</style>\n",
       "<table border=\"1\" class=\"dataframe\">\n",
       "  <thead>\n",
       "    <tr style=\"text-align: right;\">\n",
       "      <th></th>\n",
       "      <th>season</th>\n",
       "      <th>holiday</th>\n",
       "      <th>workingday</th>\n",
       "      <th>weather</th>\n",
       "      <th>year</th>\n",
       "      <th>month</th>\n",
       "      <th>day</th>\n",
       "      <th>dayofweek</th>\n",
       "      <th>hour</th>\n",
       "      <th>component_0</th>\n",
       "    </tr>\n",
       "  </thead>\n",
       "  <tbody>\n",
       "    <tr>\n",
       "      <th>0</th>\n",
       "      <td>3</td>\n",
       "      <td>0</td>\n",
       "      <td>0</td>\n",
       "      <td>2</td>\n",
       "      <td>2011</td>\n",
       "      <td>9</td>\n",
       "      <td>3</td>\n",
       "      <td>5</td>\n",
       "      <td>0</td>\n",
       "      <td>1.081421</td>\n",
       "    </tr>\n",
       "    <tr>\n",
       "      <th>1</th>\n",
       "      <td>3</td>\n",
       "      <td>0</td>\n",
       "      <td>1</td>\n",
       "      <td>1</td>\n",
       "      <td>2012</td>\n",
       "      <td>8</td>\n",
       "      <td>13</td>\n",
       "      <td>0</td>\n",
       "      <td>14</td>\n",
       "      <td>2.192260</td>\n",
       "    </tr>\n",
       "  </tbody>\n",
       "</table>\n",
       "</div>"
      ],
      "text/plain": [
       "   season  holiday  workingday  weather  year  month  day  dayofweek  hour  \\\n",
       "0       3        0           0        2  2011      9    3          5     0   \n",
       "1       3        0           1        1  2012      8   13          0    14   \n",
       "\n",
       "   component_0  \n",
       "0     1.081421  \n",
       "1     2.192260  "
      ]
     },
     "execution_count": 8,
     "metadata": {},
     "output_type": "execute_result"
    }
   ],
   "source": [
    "df_train.iloc[:,1:-2].head(2)"
   ]
  },
  {
   "cell_type": "code",
   "execution_count": 9,
   "metadata": {},
   "outputs": [],
   "source": [
    "X_train = df_train.iloc[:,1:] # Features: 1st column onwards \n",
    "y_train = df_train.iloc[:,0].ravel() # Target: 0th column\n",
    "\n",
    "X_validation = df_validation.iloc[:,1:]\n",
    "y_validation = df_validation.iloc[:,0].ravel()"
   ]
  },
  {
   "cell_type": "code",
   "execution_count": 10,
   "metadata": {},
   "outputs": [],
   "source": [
    "# XGBoost Training Parameter Reference: \n",
    "#   https://github.com/dmlc/xgboost/blob/master/doc/parameter.md\n",
    "regressor = xgb.XGBRegressor(max_depth=5,eta=0.1,subsample=0.7,num_round=150,n_estimators=150)"
   ]
  },
  {
   "cell_type": "code",
   "execution_count": 11,
   "metadata": {},
   "outputs": [
    {
     "data": {
      "text/plain": [
       "XGBRegressor(base_score=0.5, booster='gbtree', colsample_bylevel=1,\n",
       "             colsample_bynode=1, colsample_bytree=1, eta=0.1, gamma=0,\n",
       "             importance_type='gain', learning_rate=0.1, max_delta_step=0,\n",
       "             max_depth=5, min_child_weight=1, missing=None, n_estimators=150,\n",
       "             n_jobs=1, nthread=None, num_round=150, objective='reg:linear',\n",
       "             random_state=0, reg_alpha=0, reg_lambda=1, scale_pos_weight=1,\n",
       "             seed=None, silent=None, subsample=0.7, verbosity=1)"
      ]
     },
     "execution_count": 11,
     "metadata": {},
     "output_type": "execute_result"
    }
   ],
   "source": [
    "regressor"
   ]
  },
  {
   "cell_type": "code",
   "execution_count": 12,
   "metadata": {},
   "outputs": [
    {
     "name": "stdout",
     "output_type": "stream",
     "text": [
      "[01:17:13] WARNING: d:\\build\\xgboost\\xgboost-0.90.git\\src\\objective\\regression_obj.cu:152: reg:linear is now deprecated in favor of reg:squarederror.\n",
      "[0]\tvalidation_0-rmse:3.90597\tvalidation_1-rmse:3.91609\n",
      "[1]\tvalidation_0-rmse:3.52751\tvalidation_1-rmse:3.53612\n",
      "[2]\tvalidation_0-rmse:3.18686\tvalidation_1-rmse:3.19391\n",
      "[3]\tvalidation_0-rmse:2.88003\tvalidation_1-rmse:2.88564\n",
      "[4]\tvalidation_0-rmse:2.60434\tvalidation_1-rmse:2.60959\n",
      "[5]\tvalidation_0-rmse:2.35812\tvalidation_1-rmse:2.36313\n",
      "[6]\tvalidation_0-rmse:2.13663\tvalidation_1-rmse:2.14126\n",
      "[7]\tvalidation_0-rmse:1.93785\tvalidation_1-rmse:1.9429\n",
      "[8]\tvalidation_0-rmse:1.75995\tvalidation_1-rmse:1.76534\n",
      "[9]\tvalidation_0-rmse:1.60004\tvalidation_1-rmse:1.60482\n",
      "[10]\tvalidation_0-rmse:1.45694\tvalidation_1-rmse:1.46158\n",
      "[11]\tvalidation_0-rmse:1.32836\tvalidation_1-rmse:1.33273\n",
      "[12]\tvalidation_0-rmse:1.21514\tvalidation_1-rmse:1.21974\n",
      "[13]\tvalidation_0-rmse:1.10931\tvalidation_1-rmse:1.11459\n",
      "[14]\tvalidation_0-rmse:1.01941\tvalidation_1-rmse:1.0252\n",
      "[15]\tvalidation_0-rmse:0.939244\tvalidation_1-rmse:0.945046\n",
      "[16]\tvalidation_0-rmse:0.868093\tvalidation_1-rmse:0.874206\n",
      "[17]\tvalidation_0-rmse:0.806002\tvalidation_1-rmse:0.812893\n",
      "[18]\tvalidation_0-rmse:0.745231\tvalidation_1-rmse:0.752811\n",
      "[19]\tvalidation_0-rmse:0.692311\tvalidation_1-rmse:0.702033\n",
      "[20]\tvalidation_0-rmse:0.64862\tvalidation_1-rmse:0.658263\n",
      "[21]\tvalidation_0-rmse:0.6083\tvalidation_1-rmse:0.619634\n",
      "[22]\tvalidation_0-rmse:0.576489\tvalidation_1-rmse:0.58893\n",
      "[23]\tvalidation_0-rmse:0.546958\tvalidation_1-rmse:0.560216\n",
      "[24]\tvalidation_0-rmse:0.520771\tvalidation_1-rmse:0.534425\n",
      "[25]\tvalidation_0-rmse:0.497884\tvalidation_1-rmse:0.511953\n",
      "[26]\tvalidation_0-rmse:0.469801\tvalidation_1-rmse:0.484486\n",
      "[27]\tvalidation_0-rmse:0.45166\tvalidation_1-rmse:0.466809\n",
      "[28]\tvalidation_0-rmse:0.435558\tvalidation_1-rmse:0.451256\n",
      "[29]\tvalidation_0-rmse:0.422807\tvalidation_1-rmse:0.439419\n",
      "[30]\tvalidation_0-rmse:0.406589\tvalidation_1-rmse:0.424368\n",
      "[31]\tvalidation_0-rmse:0.397021\tvalidation_1-rmse:0.415413\n",
      "[32]\tvalidation_0-rmse:0.386212\tvalidation_1-rmse:0.406054\n",
      "[33]\tvalidation_0-rmse:0.37919\tvalidation_1-rmse:0.400117\n",
      "[34]\tvalidation_0-rmse:0.371223\tvalidation_1-rmse:0.393091\n",
      "[35]\tvalidation_0-rmse:0.365678\tvalidation_1-rmse:0.388355\n",
      "[36]\tvalidation_0-rmse:0.352711\tvalidation_1-rmse:0.376091\n",
      "[37]\tvalidation_0-rmse:0.346253\tvalidation_1-rmse:0.370343\n",
      "[38]\tvalidation_0-rmse:0.341097\tvalidation_1-rmse:0.365998\n",
      "[39]\tvalidation_0-rmse:0.3371\tvalidation_1-rmse:0.362538\n",
      "[40]\tvalidation_0-rmse:0.334456\tvalidation_1-rmse:0.360706\n",
      "[41]\tvalidation_0-rmse:0.332018\tvalidation_1-rmse:0.358862\n",
      "[42]\tvalidation_0-rmse:0.328766\tvalidation_1-rmse:0.355981\n",
      "[43]\tvalidation_0-rmse:0.325158\tvalidation_1-rmse:0.353109\n",
      "[44]\tvalidation_0-rmse:0.321846\tvalidation_1-rmse:0.350685\n",
      "[45]\tvalidation_0-rmse:0.320085\tvalidation_1-rmse:0.349541\n",
      "[46]\tvalidation_0-rmse:0.317396\tvalidation_1-rmse:0.347315\n",
      "[47]\tvalidation_0-rmse:0.315542\tvalidation_1-rmse:0.34613\n",
      "[48]\tvalidation_0-rmse:0.313881\tvalidation_1-rmse:0.345186\n",
      "[49]\tvalidation_0-rmse:0.310631\tvalidation_1-rmse:0.342485\n",
      "[50]\tvalidation_0-rmse:0.307594\tvalidation_1-rmse:0.340023\n",
      "[51]\tvalidation_0-rmse:0.304609\tvalidation_1-rmse:0.337895\n",
      "[52]\tvalidation_0-rmse:0.30334\tvalidation_1-rmse:0.337095\n",
      "[53]\tvalidation_0-rmse:0.300329\tvalidation_1-rmse:0.334643\n",
      "[54]\tvalidation_0-rmse:0.298132\tvalidation_1-rmse:0.333211\n",
      "[55]\tvalidation_0-rmse:0.297471\tvalidation_1-rmse:0.332851\n",
      "[56]\tvalidation_0-rmse:0.296624\tvalidation_1-rmse:0.332498\n",
      "[57]\tvalidation_0-rmse:0.295395\tvalidation_1-rmse:0.33202\n",
      "[58]\tvalidation_0-rmse:0.290845\tvalidation_1-rmse:0.327413\n",
      "[59]\tvalidation_0-rmse:0.290048\tvalidation_1-rmse:0.327122\n",
      "[60]\tvalidation_0-rmse:0.289239\tvalidation_1-rmse:0.326656\n",
      "[61]\tvalidation_0-rmse:0.286471\tvalidation_1-rmse:0.324292\n",
      "[62]\tvalidation_0-rmse:0.285953\tvalidation_1-rmse:0.324152\n",
      "[63]\tvalidation_0-rmse:0.282477\tvalidation_1-rmse:0.321009\n",
      "[64]\tvalidation_0-rmse:0.281867\tvalidation_1-rmse:0.320636\n",
      "[65]\tvalidation_0-rmse:0.278306\tvalidation_1-rmse:0.317336\n",
      "[66]\tvalidation_0-rmse:0.275878\tvalidation_1-rmse:0.315421\n",
      "[67]\tvalidation_0-rmse:0.275211\tvalidation_1-rmse:0.315359\n",
      "[68]\tvalidation_0-rmse:0.273851\tvalidation_1-rmse:0.314297\n",
      "[69]\tvalidation_0-rmse:0.27048\tvalidation_1-rmse:0.311019\n",
      "[70]\tvalidation_0-rmse:0.269181\tvalidation_1-rmse:0.31027\n",
      "[71]\tvalidation_0-rmse:0.268306\tvalidation_1-rmse:0.309885\n",
      "[72]\tvalidation_0-rmse:0.266095\tvalidation_1-rmse:0.308066\n",
      "[73]\tvalidation_0-rmse:0.26533\tvalidation_1-rmse:0.307443\n",
      "[74]\tvalidation_0-rmse:0.264167\tvalidation_1-rmse:0.306425\n",
      "[75]\tvalidation_0-rmse:0.263559\tvalidation_1-rmse:0.306263\n",
      "[76]\tvalidation_0-rmse:0.263034\tvalidation_1-rmse:0.305993\n",
      "[77]\tvalidation_0-rmse:0.261835\tvalidation_1-rmse:0.304869\n",
      "[78]\tvalidation_0-rmse:0.260275\tvalidation_1-rmse:0.303736\n",
      "[79]\tvalidation_0-rmse:0.259955\tvalidation_1-rmse:0.303563\n",
      "[80]\tvalidation_0-rmse:0.25922\tvalidation_1-rmse:0.303332\n",
      "[81]\tvalidation_0-rmse:0.258946\tvalidation_1-rmse:0.303158\n",
      "[82]\tvalidation_0-rmse:0.258285\tvalidation_1-rmse:0.303278\n",
      "[83]\tvalidation_0-rmse:0.257844\tvalidation_1-rmse:0.303244\n",
      "[84]\tvalidation_0-rmse:0.257498\tvalidation_1-rmse:0.303178\n",
      "[85]\tvalidation_0-rmse:0.257078\tvalidation_1-rmse:0.303153\n",
      "[86]\tvalidation_0-rmse:0.255886\tvalidation_1-rmse:0.302374\n",
      "[87]\tvalidation_0-rmse:0.254995\tvalidation_1-rmse:0.301948\n",
      "[88]\tvalidation_0-rmse:0.252972\tvalidation_1-rmse:0.300095\n",
      "[89]\tvalidation_0-rmse:0.252731\tvalidation_1-rmse:0.300052\n",
      "[90]\tvalidation_0-rmse:0.25203\tvalidation_1-rmse:0.299431\n",
      "[91]\tvalidation_0-rmse:0.251006\tvalidation_1-rmse:0.298707\n",
      "[92]\tvalidation_0-rmse:0.250592\tvalidation_1-rmse:0.298348\n",
      "[93]\tvalidation_0-rmse:0.250163\tvalidation_1-rmse:0.298053\n",
      "[94]\tvalidation_0-rmse:0.249737\tvalidation_1-rmse:0.297947\n",
      "[95]\tvalidation_0-rmse:0.248719\tvalidation_1-rmse:0.29736\n",
      "[96]\tvalidation_0-rmse:0.247541\tvalidation_1-rmse:0.296671\n",
      "[97]\tvalidation_0-rmse:0.246964\tvalidation_1-rmse:0.296372\n",
      "[98]\tvalidation_0-rmse:0.24643\tvalidation_1-rmse:0.296264\n",
      "[99]\tvalidation_0-rmse:0.245928\tvalidation_1-rmse:0.296101\n",
      "[100]\tvalidation_0-rmse:0.245812\tvalidation_1-rmse:0.296134\n",
      "[101]\tvalidation_0-rmse:0.245536\tvalidation_1-rmse:0.296159\n",
      "[102]\tvalidation_0-rmse:0.2451\tvalidation_1-rmse:0.296147\n",
      "[103]\tvalidation_0-rmse:0.244622\tvalidation_1-rmse:0.296209\n",
      "[104]\tvalidation_0-rmse:0.244463\tvalidation_1-rmse:0.296219\n",
      "[105]\tvalidation_0-rmse:0.243915\tvalidation_1-rmse:0.295742\n",
      "[106]\tvalidation_0-rmse:0.243378\tvalidation_1-rmse:0.295419\n",
      "[107]\tvalidation_0-rmse:0.243167\tvalidation_1-rmse:0.295439\n",
      "[108]\tvalidation_0-rmse:0.242878\tvalidation_1-rmse:0.295397\n",
      "[109]\tvalidation_0-rmse:0.242471\tvalidation_1-rmse:0.295532\n",
      "[110]\tvalidation_0-rmse:0.242147\tvalidation_1-rmse:0.295352\n",
      "[111]\tvalidation_0-rmse:0.241398\tvalidation_1-rmse:0.294985\n",
      "[112]\tvalidation_0-rmse:0.241067\tvalidation_1-rmse:0.295042\n",
      "[113]\tvalidation_0-rmse:0.240533\tvalidation_1-rmse:0.294809\n",
      "[114]\tvalidation_0-rmse:0.239948\tvalidation_1-rmse:0.294776\n",
      "[115]\tvalidation_0-rmse:0.239723\tvalidation_1-rmse:0.294665\n",
      "[116]\tvalidation_0-rmse:0.23897\tvalidation_1-rmse:0.294381\n",
      "[117]\tvalidation_0-rmse:0.238453\tvalidation_1-rmse:0.294262\n",
      "[118]\tvalidation_0-rmse:0.237957\tvalidation_1-rmse:0.294259\n",
      "[119]\tvalidation_0-rmse:0.237678\tvalidation_1-rmse:0.294354\n",
      "[120]\tvalidation_0-rmse:0.237511\tvalidation_1-rmse:0.294418\n",
      "[121]\tvalidation_0-rmse:0.2371\tvalidation_1-rmse:0.294233\n",
      "[122]\tvalidation_0-rmse:0.236823\tvalidation_1-rmse:0.294262\n",
      "[123]\tvalidation_0-rmse:0.236533\tvalidation_1-rmse:0.294264\n",
      "[124]\tvalidation_0-rmse:0.236077\tvalidation_1-rmse:0.294127\n",
      "[125]\tvalidation_0-rmse:0.235567\tvalidation_1-rmse:0.294191\n",
      "[126]\tvalidation_0-rmse:0.234477\tvalidation_1-rmse:0.293531\n",
      "[127]\tvalidation_0-rmse:0.234207\tvalidation_1-rmse:0.29347\n",
      "[128]\tvalidation_0-rmse:0.233721\tvalidation_1-rmse:0.293706\n",
      "[129]\tvalidation_0-rmse:0.233589\tvalidation_1-rmse:0.293714\n",
      "[130]\tvalidation_0-rmse:0.233094\tvalidation_1-rmse:0.293846\n",
      "[131]\tvalidation_0-rmse:0.23273\tvalidation_1-rmse:0.29379\n",
      "[132]\tvalidation_0-rmse:0.2323\tvalidation_1-rmse:0.293455\n",
      "[133]\tvalidation_0-rmse:0.23198\tvalidation_1-rmse:0.293623\n",
      "[134]\tvalidation_0-rmse:0.231816\tvalidation_1-rmse:0.293542\n",
      "[135]\tvalidation_0-rmse:0.231472\tvalidation_1-rmse:0.293578\n",
      "[136]\tvalidation_0-rmse:0.230956\tvalidation_1-rmse:0.293621\n"
     ]
    },
    {
     "name": "stdout",
     "output_type": "stream",
     "text": [
      "[137]\tvalidation_0-rmse:0.230458\tvalidation_1-rmse:0.293612\n",
      "[138]\tvalidation_0-rmse:0.230227\tvalidation_1-rmse:0.293451\n",
      "[139]\tvalidation_0-rmse:0.229892\tvalidation_1-rmse:0.293411\n",
      "[140]\tvalidation_0-rmse:0.22975\tvalidation_1-rmse:0.293291\n",
      "[141]\tvalidation_0-rmse:0.229573\tvalidation_1-rmse:0.293231\n",
      "[142]\tvalidation_0-rmse:0.229021\tvalidation_1-rmse:0.293155\n",
      "[143]\tvalidation_0-rmse:0.228522\tvalidation_1-rmse:0.293055\n",
      "[144]\tvalidation_0-rmse:0.228189\tvalidation_1-rmse:0.292981\n",
      "[145]\tvalidation_0-rmse:0.227223\tvalidation_1-rmse:0.292593\n",
      "[146]\tvalidation_0-rmse:0.226891\tvalidation_1-rmse:0.292454\n",
      "[147]\tvalidation_0-rmse:0.226689\tvalidation_1-rmse:0.292439\n",
      "[148]\tvalidation_0-rmse:0.226162\tvalidation_1-rmse:0.292217\n",
      "[149]\tvalidation_0-rmse:0.225622\tvalidation_1-rmse:0.292161\n"
     ]
    },
    {
     "data": {
      "text/plain": [
       "XGBRegressor(base_score=0.5, booster='gbtree', colsample_bylevel=1,\n",
       "             colsample_bynode=1, colsample_bytree=1, eta=0.1, gamma=0,\n",
       "             importance_type='gain', learning_rate=0.1, max_delta_step=0,\n",
       "             max_depth=5, min_child_weight=1, missing=None, n_estimators=150,\n",
       "             n_jobs=1, nthread=None, num_round=150, objective='reg:linear',\n",
       "             random_state=0, reg_alpha=0, reg_lambda=1, scale_pos_weight=1,\n",
       "             seed=None, silent=None, subsample=0.7, verbosity=1)"
      ]
     },
     "execution_count": 12,
     "metadata": {},
     "output_type": "execute_result"
    }
   ],
   "source": [
    "regressor.fit(X_train,y_train, eval_set = [(X_train, y_train), (X_validation, y_validation)])"
   ]
  },
  {
   "cell_type": "code",
   "execution_count": 13,
   "metadata": {},
   "outputs": [],
   "source": [
    "eval_result = regressor.evals_result()"
   ]
  },
  {
   "cell_type": "code",
   "execution_count": 14,
   "metadata": {},
   "outputs": [],
   "source": [
    "training_rounds = range(len(eval_result['validation_0']['rmse']))"
   ]
  },
  {
   "cell_type": "code",
   "execution_count": 15,
   "metadata": {},
   "outputs": [
    {
     "data": {
      "text/plain": [
       "<matplotlib.legend.Legend at 0xa56b50>"
      ]
     },
     "execution_count": 15,
     "metadata": {},
     "output_type": "execute_result"
    },
    {
     "data": {
      "image/png": "[encoded data removed]",
      "text/plain": [
       "<Figure size 432x288 with 1 Axes>"
      ]
     },
     "metadata": {
      "needs_background": "light"
     },
     "output_type": "display_data"
    }
   ],
   "source": [
    "plt.scatter(x=training_rounds,y=eval_result['validation_0']['rmse'],label='Training Error')\n",
    "plt.scatter(x=training_rounds,y=eval_result['validation_1']['rmse'],label='Validation Error')\n",
    "plt.grid(True)\n",
    "plt.xlabel('Iteration')\n",
    "plt.ylabel('RMSE')\n",
    "plt.title('Training Vs Validation Error')\n",
    "plt.legend()"
   ]
  },
  {
   "cell_type": "code",
   "execution_count": 16,
   "metadata": {},
   "outputs": [
    {
     "data": {
      "text/plain": [
       "<matplotlib.axes._subplots.AxesSubplot at 0xf61cf0>"
      ]
     },
     "execution_count": 16,
     "metadata": {},
     "output_type": "execute_result"
    },
    {
     "data": {
      "image/png": "[encoded data removed]",
      "text/plain": [
       "<Figure size 432x288 with 1 Axes>"
      ]
     },
     "metadata": {
      "needs_background": "light"
     },
     "output_type": "display_data"
    }
   ],
   "source": [
    "xgb.plot_importance(regressor)"
   ]
  },
  {
   "cell_type": "code",
   "execution_count": 18,
   "metadata": {},
   "outputs": [],
   "source": [
    "def adjust_count(x):\n",
    "    if x < 0:\n",
    "        return 0\n",
    "    else:\n",
    "        return x"
   ]
  },
  {
   "cell_type": "code",
   "execution_count": 19,
   "metadata": {},
   "outputs": [],
   "source": [
    "# Prepare Data for Submission to Kaggle\n",
    "df_test = pd.read_csv(test_file,parse_dates=['datetime'])"
   ]
  },
  {
   "cell_type": "code",
   "execution_count": 20,
   "metadata": {},
   "outputs": [
    {
     "data": {
      "text/html": [
       "<div>\n",
       "<style scoped>\n",
       "    .dataframe tbody tr th:only-of-type {\n",
       "        vertical-align: middle;\n",
       "    }\n",
       "\n",
       "    .dataframe tbody tr th {\n",
       "        vertical-align: top;\n",
       "    }\n",
       "\n",
       "    .dataframe thead th {\n",
       "        text-align: right;\n",
       "    }\n",
       "</style>\n",
       "<table border=\"1\" class=\"dataframe\">\n",
       "  <thead>\n",
       "    <tr style=\"text-align: right;\">\n",
       "      <th></th>\n",
       "      <th>datetime</th>\n",
       "      <th>season</th>\n",
       "      <th>holiday</th>\n",
       "      <th>workingday</th>\n",
       "      <th>weather</th>\n",
       "      <th>year</th>\n",
       "      <th>month</th>\n",
       "      <th>day</th>\n",
       "      <th>dayofweek</th>\n",
       "      <th>hour</th>\n",
       "      <th>component_0</th>\n",
       "      <th>component_1</th>\n",
       "      <th>component_2</th>\n",
       "    </tr>\n",
       "  </thead>\n",
       "  <tbody>\n",
       "    <tr>\n",
       "      <th>0</th>\n",
       "      <td>2011-01-20 00:00:00</td>\n",
       "      <td>1</td>\n",
       "      <td>0</td>\n",
       "      <td>1</td>\n",
       "      <td>1</td>\n",
       "      <td>2011</td>\n",
       "      <td>1</td>\n",
       "      <td>20</td>\n",
       "      <td>3</td>\n",
       "      <td>0</td>\n",
       "      <td>-1.920363</td>\n",
       "      <td>1.412416</td>\n",
       "      <td>0.791086</td>\n",
       "    </tr>\n",
       "    <tr>\n",
       "      <th>1</th>\n",
       "      <td>2011-01-20 01:00:00</td>\n",
       "      <td>1</td>\n",
       "      <td>0</td>\n",
       "      <td>1</td>\n",
       "      <td>1</td>\n",
       "      <td>2011</td>\n",
       "      <td>1</td>\n",
       "      <td>20</td>\n",
       "      <td>3</td>\n",
       "      <td>1</td>\n",
       "      <td>-1.629284</td>\n",
       "      <td>-0.856109</td>\n",
       "      <td>-1.439095</td>\n",
       "    </tr>\n",
       "  </tbody>\n",
       "</table>\n",
       "</div>"
      ],
      "text/plain": [
       "             datetime  season  holiday  workingday  weather  year  month  day  \\\n",
       "0 2011-01-20 00:00:00       1        0           1        1  2011      1   20   \n",
       "1 2011-01-20 01:00:00       1        0           1        1  2011      1   20   \n",
       "\n",
       "   dayofweek  hour  component_0  component_1  component_2  \n",
       "0          3     0    -1.920363     1.412416     0.791086  \n",
       "1          3     1    -1.629284    -0.856109    -1.439095  "
      ]
     },
     "execution_count": 20,
     "metadata": {},
     "output_type": "execute_result"
    }
   ],
   "source": [
    "df_test.head(2)"
   ]
  },
  {
   "cell_type": "code",
   "execution_count": 21,
   "metadata": {},
   "outputs": [],
   "source": [
    "X_test =  df_test.iloc[:,1:] # Exclude datetime for prediction"
   ]
  },
  {
   "cell_type": "code",
   "execution_count": 22,
   "metadata": {},
   "outputs": [
    {
     "data": {
      "text/html": [
       "<div>\n",
       "<style scoped>\n",
       "    .dataframe tbody tr th:only-of-type {\n",
       "        vertical-align: middle;\n",
       "    }\n",
       "\n",
       "    .dataframe tbody tr th {\n",
       "        vertical-align: top;\n",
       "    }\n",
       "\n",
       "    .dataframe thead th {\n",
       "        text-align: right;\n",
       "    }\n",
       "</style>\n",
       "<table border=\"1\" class=\"dataframe\">\n",
       "  <thead>\n",
       "    <tr style=\"text-align: right;\">\n",
       "      <th></th>\n",
       "      <th>season</th>\n",
       "      <th>holiday</th>\n",
       "      <th>workingday</th>\n",
       "      <th>weather</th>\n",
       "      <th>year</th>\n",
       "      <th>month</th>\n",
       "      <th>day</th>\n",
       "      <th>dayofweek</th>\n",
       "      <th>hour</th>\n",
       "      <th>component_0</th>\n",
       "      <th>component_1</th>\n",
       "      <th>component_2</th>\n",
       "    </tr>\n",
       "  </thead>\n",
       "  <tbody>\n",
       "    <tr>\n",
       "      <th>0</th>\n",
       "      <td>1</td>\n",
       "      <td>0</td>\n",
       "      <td>1</td>\n",
       "      <td>1</td>\n",
       "      <td>2011</td>\n",
       "      <td>1</td>\n",
       "      <td>20</td>\n",
       "      <td>3</td>\n",
       "      <td>0</td>\n",
       "      <td>-1.920363</td>\n",
       "      <td>1.412416</td>\n",
       "      <td>0.791086</td>\n",
       "    </tr>\n",
       "    <tr>\n",
       "      <th>1</th>\n",
       "      <td>1</td>\n",
       "      <td>0</td>\n",
       "      <td>1</td>\n",
       "      <td>1</td>\n",
       "      <td>2011</td>\n",
       "      <td>1</td>\n",
       "      <td>20</td>\n",
       "      <td>3</td>\n",
       "      <td>1</td>\n",
       "      <td>-1.629284</td>\n",
       "      <td>-0.856109</td>\n",
       "      <td>-1.439095</td>\n",
       "    </tr>\n",
       "  </tbody>\n",
       "</table>\n",
       "</div>"
      ],
      "text/plain": [
       "   season  holiday  workingday  weather  year  month  day  dayofweek  hour  \\\n",
       "0       1        0           1        1  2011      1   20          3     0   \n",
       "1       1        0           1        1  2011      1   20          3     1   \n",
       "\n",
       "   component_0  component_1  component_2  \n",
       "0    -1.920363     1.412416     0.791086  \n",
       "1    -1.629284    -0.856109    -1.439095  "
      ]
     },
     "execution_count": 22,
     "metadata": {},
     "output_type": "execute_result"
    }
   ],
   "source": [
    "X_test.head(2)"
   ]
  },
  {
   "cell_type": "code",
   "execution_count": 23,
   "metadata": {},
   "outputs": [],
   "source": [
    "result = regressor.predict(X_test)"
   ]
  },
  {
   "cell_type": "code",
   "execution_count": 24,
   "metadata": {},
   "outputs": [
    {
     "data": {
      "text/plain": [
       "array([2.3887343 , 1.9185106 , 1.6149356 , 1.01091   , 0.98511744],\n",
       "      dtype=float32)"
      ]
     },
     "execution_count": 24,
     "metadata": {},
     "output_type": "execute_result"
    }
   ],
   "source": [
    "result[:5]"
   ]
  },
  {
   "cell_type": "code",
   "execution_count": 25,
   "metadata": {},
   "outputs": [],
   "source": [
    "# Convert result to actual count\n",
    "df_test[\"count\"] = np.expm1(result)"
   ]
  },
  {
   "cell_type": "code",
   "execution_count": 26,
   "metadata": {},
   "outputs": [
    {
     "data": {
      "text/html": [
       "<div>\n",
       "<style scoped>\n",
       "    .dataframe tbody tr th:only-of-type {\n",
       "        vertical-align: middle;\n",
       "    }\n",
       "\n",
       "    .dataframe tbody tr th {\n",
       "        vertical-align: top;\n",
       "    }\n",
       "\n",
       "    .dataframe thead th {\n",
       "        text-align: right;\n",
       "    }\n",
       "</style>\n",
       "<table border=\"1\" class=\"dataframe\">\n",
       "  <thead>\n",
       "    <tr style=\"text-align: right;\">\n",
       "      <th></th>\n",
       "      <th>datetime</th>\n",
       "      <th>season</th>\n",
       "      <th>holiday</th>\n",
       "      <th>workingday</th>\n",
       "      <th>weather</th>\n",
       "      <th>year</th>\n",
       "      <th>month</th>\n",
       "      <th>day</th>\n",
       "      <th>dayofweek</th>\n",
       "      <th>hour</th>\n",
       "      <th>component_0</th>\n",
       "      <th>component_1</th>\n",
       "      <th>component_2</th>\n",
       "      <th>count</th>\n",
       "    </tr>\n",
       "  </thead>\n",
       "  <tbody>\n",
       "    <tr>\n",
       "      <th>0</th>\n",
       "      <td>2011-01-20 00:00:00</td>\n",
       "      <td>1</td>\n",
       "      <td>0</td>\n",
       "      <td>1</td>\n",
       "      <td>1</td>\n",
       "      <td>2011</td>\n",
       "      <td>1</td>\n",
       "      <td>20</td>\n",
       "      <td>3</td>\n",
       "      <td>0</td>\n",
       "      <td>-1.920363</td>\n",
       "      <td>1.412416</td>\n",
       "      <td>0.791086</td>\n",
       "      <td>9.899690</td>\n",
       "    </tr>\n",
       "    <tr>\n",
       "      <th>1</th>\n",
       "      <td>2011-01-20 01:00:00</td>\n",
       "      <td>1</td>\n",
       "      <td>0</td>\n",
       "      <td>1</td>\n",
       "      <td>1</td>\n",
       "      <td>2011</td>\n",
       "      <td>1</td>\n",
       "      <td>20</td>\n",
       "      <td>3</td>\n",
       "      <td>1</td>\n",
       "      <td>-1.629284</td>\n",
       "      <td>-0.856109</td>\n",
       "      <td>-1.439095</td>\n",
       "      <td>5.810807</td>\n",
       "    </tr>\n",
       "    <tr>\n",
       "      <th>2</th>\n",
       "      <td>2011-01-20 02:00:00</td>\n",
       "      <td>1</td>\n",
       "      <td>0</td>\n",
       "      <td>1</td>\n",
       "      <td>1</td>\n",
       "      <td>2011</td>\n",
       "      <td>1</td>\n",
       "      <td>20</td>\n",
       "      <td>3</td>\n",
       "      <td>2</td>\n",
       "      <td>-1.629284</td>\n",
       "      <td>-0.856109</td>\n",
       "      <td>-1.439095</td>\n",
       "      <td>4.027565</td>\n",
       "    </tr>\n",
       "    <tr>\n",
       "      <th>3</th>\n",
       "      <td>2011-01-20 03:00:00</td>\n",
       "      <td>1</td>\n",
       "      <td>0</td>\n",
       "      <td>1</td>\n",
       "      <td>1</td>\n",
       "      <td>2011</td>\n",
       "      <td>1</td>\n",
       "      <td>20</td>\n",
       "      <td>3</td>\n",
       "      <td>3</td>\n",
       "      <td>-1.735344</td>\n",
       "      <td>0.102855</td>\n",
       "      <td>-0.494568</td>\n",
       "      <td>1.748101</td>\n",
       "    </tr>\n",
       "    <tr>\n",
       "      <th>4</th>\n",
       "      <td>2011-01-20 04:00:00</td>\n",
       "      <td>1</td>\n",
       "      <td>0</td>\n",
       "      <td>1</td>\n",
       "      <td>1</td>\n",
       "      <td>2011</td>\n",
       "      <td>1</td>\n",
       "      <td>20</td>\n",
       "      <td>3</td>\n",
       "      <td>4</td>\n",
       "      <td>-1.735344</td>\n",
       "      <td>0.102855</td>\n",
       "      <td>-0.494568</td>\n",
       "      <td>1.678126</td>\n",
       "    </tr>\n",
       "  </tbody>\n",
       "</table>\n",
       "</div>"
      ],
      "text/plain": [
       "             datetime  season  holiday  workingday  weather  year  month  day  \\\n",
       "0 2011-01-20 00:00:00       1        0           1        1  2011      1   20   \n",
       "1 2011-01-20 01:00:00       1        0           1        1  2011      1   20   \n",
       "2 2011-01-20 02:00:00       1        0           1        1  2011      1   20   \n",
       "3 2011-01-20 03:00:00       1        0           1        1  2011      1   20   \n",
       "4 2011-01-20 04:00:00       1        0           1        1  2011      1   20   \n",
       "\n",
       "   dayofweek  hour  component_0  component_1  component_2     count  \n",
       "0          3     0    -1.920363     1.412416     0.791086  9.899690  \n",
       "1          3     1    -1.629284    -0.856109    -1.439095  5.810807  \n",
       "2          3     2    -1.629284    -0.856109    -1.439095  4.027565  \n",
       "3          3     3    -1.735344     0.102855    -0.494568  1.748101  \n",
       "4          3     4    -1.735344     0.102855    -0.494568  1.678126  "
      ]
     },
     "execution_count": 26,
     "metadata": {},
     "output_type": "execute_result"
    }
   ],
   "source": [
    "df_test.head()"
   ]
  },
  {
   "cell_type": "code",
   "execution_count": null,
   "metadata": {},
   "outputs": [],
   "source": [
    "df_test[df_test[\"count\"] < 0]"
   ]
  },
  {
   "cell_type": "code",
   "execution_count": null,
   "metadata": {},
   "outputs": [],
   "source": [
    "df_test['count'] = df_test['count'].map(adjust_count)"
   ]
  },
  {
   "cell_type": "code",
   "execution_count": null,
   "metadata": {},
   "outputs": [],
   "source": [
    "df_test[df_test[\"count\"] < 0]"
   ]
  },
  {
   "cell_type": "code",
   "execution_count": null,
   "metadata": {},
   "outputs": [],
   "source": [
    "df_test[['datetime','count']].to_csv('predicted_count_pca.csv',index=False)"
   ]
  },
  {
   "cell_type": "code",
   "execution_count": null,
   "metadata": {},
   "outputs": [],
   "source": []
  },
  {
   "cell_type": "code",
   "execution_count": null,
   "metadata": {},
   "outputs": [],
   "source": []
  }
 ],
 "metadata": {
  "kernelspec": {
   "display_name": "Python 3",
   "language": "python",
   "name": "python3"
  },
  "language_info": {
   "codemirror_mode": {
    "name": "ipython",
    "version": 3
   },
   "file_extension": ".py",
   "mimetype": "text/x-python",
   "name": "python",
   "nbconvert_exporter": "python",
   "pygments_lexer": "ipython3",
   "version": "3.7.2"
  }
 },
 "nbformat": 4,
 "nbformat_minor": 2
}
