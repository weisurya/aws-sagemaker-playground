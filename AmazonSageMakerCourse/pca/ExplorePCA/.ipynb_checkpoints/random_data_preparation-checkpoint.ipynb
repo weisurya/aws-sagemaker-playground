{
 "cells": [
  {
   "cell_type": "code",
   "execution_count": 2,
   "metadata": {},
   "outputs": [],
   "source": [
    "%matplotlib inline\n",
    "import numpy as np\n",
    "import pandas as pd\n",
    "import matplotlib.pyplot as plt\n",
    "from sklearn.preprocessing import StandardScaler \n",
    "# http://scikit-learn.org/stable/modules/generated/sklearn.preprocessing.StandardScaler.html\n",
    "from sklearn.decomposition import PCA\n",
    "# http://scikit-learn.org/stable/modules/generated/sklearn.decomposition.PCA.html"
   ]
  },
  {
   "cell_type": "markdown",
   "metadata": {},
   "source": [
    "<h2>Random Data with PCA</h2>\n",
    "<h4>Demonstrate how PCA works with completely random dataset</h4>\n",
    "<br>\n",
    "Features: 10 random columns<br>\n",
    "Output: PCA Components<br>\n",
    "\n",
    "Objective: <br><quote>There should not be much reduction in dimensions when using all random colums</quote>"
   ]
  },
  {
   "cell_type": "code",
   "execution_count": 3,
   "metadata": {},
   "outputs": [],
   "source": [
    "# 1000 rows x 10 columns\n",
    "np.random.seed(5)\n",
    "random_data = np.random.rand(1000,10)"
   ]
  },
  {
   "cell_type": "code",
   "execution_count": 4,
   "metadata": {},
   "outputs": [
    {
     "data": {
      "text/plain": [
       "(1000, 10)"
      ]
     },
     "execution_count": 4,
     "metadata": {},
     "output_type": "execute_result"
    }
   ],
   "source": [
    "random_data.shape"
   ]
  },
  {
   "cell_type": "code",
   "execution_count": 5,
   "metadata": {},
   "outputs": [],
   "source": [
    "df = pd.DataFrame(random_data)"
   ]
  },
  {
   "cell_type": "code",
   "execution_count": 6,
   "metadata": {},
   "outputs": [
    {
     "data": {
      "text/html": [
       "<div>\n",
       "<style scoped>\n",
       "    .dataframe tbody tr th:only-of-type {\n",
       "        vertical-align: middle;\n",
       "    }\n",
       "\n",
       "    .dataframe tbody tr th {\n",
       "        vertical-align: top;\n",
       "    }\n",
       "\n",
       "    .dataframe thead th {\n",
       "        text-align: right;\n",
       "    }\n",
       "</style>\n",
       "<table border=\"1\" class=\"dataframe\">\n",
       "  <thead>\n",
       "    <tr style=\"text-align: right;\">\n",
       "      <th></th>\n",
       "      <th>0</th>\n",
       "      <th>1</th>\n",
       "      <th>2</th>\n",
       "      <th>3</th>\n",
       "      <th>4</th>\n",
       "      <th>5</th>\n",
       "      <th>6</th>\n",
       "      <th>7</th>\n",
       "      <th>8</th>\n",
       "      <th>9</th>\n",
       "    </tr>\n",
       "  </thead>\n",
       "  <tbody>\n",
       "    <tr>\n",
       "      <th>0</th>\n",
       "      <td>0.221993</td>\n",
       "      <td>0.870732</td>\n",
       "      <td>0.206719</td>\n",
       "      <td>0.918611</td>\n",
       "      <td>0.488411</td>\n",
       "      <td>0.611744</td>\n",
       "      <td>0.765908</td>\n",
       "      <td>0.518418</td>\n",
       "      <td>0.296801</td>\n",
       "      <td>0.187721</td>\n",
       "    </tr>\n",
       "    <tr>\n",
       "      <th>1</th>\n",
       "      <td>0.080741</td>\n",
       "      <td>0.738440</td>\n",
       "      <td>0.441309</td>\n",
       "      <td>0.158310</td>\n",
       "      <td>0.879937</td>\n",
       "      <td>0.274086</td>\n",
       "      <td>0.414235</td>\n",
       "      <td>0.296080</td>\n",
       "      <td>0.628788</td>\n",
       "      <td>0.579838</td>\n",
       "    </tr>\n",
       "    <tr>\n",
       "      <th>2</th>\n",
       "      <td>0.599929</td>\n",
       "      <td>0.265819</td>\n",
       "      <td>0.284686</td>\n",
       "      <td>0.253588</td>\n",
       "      <td>0.327564</td>\n",
       "      <td>0.144164</td>\n",
       "      <td>0.165613</td>\n",
       "      <td>0.963931</td>\n",
       "      <td>0.960227</td>\n",
       "      <td>0.188415</td>\n",
       "    </tr>\n",
       "    <tr>\n",
       "      <th>3</th>\n",
       "      <td>0.024307</td>\n",
       "      <td>0.204556</td>\n",
       "      <td>0.699844</td>\n",
       "      <td>0.779515</td>\n",
       "      <td>0.022933</td>\n",
       "      <td>0.577663</td>\n",
       "      <td>0.001642</td>\n",
       "      <td>0.515473</td>\n",
       "      <td>0.639795</td>\n",
       "      <td>0.985624</td>\n",
       "    </tr>\n",
       "    <tr>\n",
       "      <th>4</th>\n",
       "      <td>0.259098</td>\n",
       "      <td>0.802497</td>\n",
       "      <td>0.870483</td>\n",
       "      <td>0.922750</td>\n",
       "      <td>0.002214</td>\n",
       "      <td>0.469488</td>\n",
       "      <td>0.981469</td>\n",
       "      <td>0.398945</td>\n",
       "      <td>0.813732</td>\n",
       "      <td>0.546456</td>\n",
       "    </tr>\n",
       "  </tbody>\n",
       "</table>\n",
       "</div>"
      ],
      "text/plain": [
       "          0         1         2         3         4         5         6  \\\n",
       "0  0.221993  0.870732  0.206719  0.918611  0.488411  0.611744  0.765908   \n",
       "1  0.080741  0.738440  0.441309  0.158310  0.879937  0.274086  0.414235   \n",
       "2  0.599929  0.265819  0.284686  0.253588  0.327564  0.144164  0.165613   \n",
       "3  0.024307  0.204556  0.699844  0.779515  0.022933  0.577663  0.001642   \n",
       "4  0.259098  0.802497  0.870483  0.922750  0.002214  0.469488  0.981469   \n",
       "\n",
       "          7         8         9  \n",
       "0  0.518418  0.296801  0.187721  \n",
       "1  0.296080  0.628788  0.579838  \n",
       "2  0.963931  0.960227  0.188415  \n",
       "3  0.515473  0.639795  0.985624  \n",
       "4  0.398945  0.813732  0.546456  "
      ]
     },
     "execution_count": 6,
     "metadata": {},
     "output_type": "execute_result"
    }
   ],
   "source": [
    "df.head()"
   ]
  },
  {
   "cell_type": "code",
   "execution_count": 7,
   "metadata": {},
   "outputs": [
    {
     "data": {
      "text/html": [
       "<div>\n",
       "<style scoped>\n",
       "    .dataframe tbody tr th:only-of-type {\n",
       "        vertical-align: middle;\n",
       "    }\n",
       "\n",
       "    .dataframe tbody tr th {\n",
       "        vertical-align: top;\n",
       "    }\n",
       "\n",
       "    .dataframe thead th {\n",
       "        text-align: right;\n",
       "    }\n",
       "</style>\n",
       "<table border=\"1\" class=\"dataframe\">\n",
       "  <thead>\n",
       "    <tr style=\"text-align: right;\">\n",
       "      <th></th>\n",
       "      <th>0</th>\n",
       "      <th>1</th>\n",
       "      <th>2</th>\n",
       "      <th>3</th>\n",
       "      <th>4</th>\n",
       "      <th>5</th>\n",
       "      <th>6</th>\n",
       "      <th>7</th>\n",
       "      <th>8</th>\n",
       "      <th>9</th>\n",
       "    </tr>\n",
       "  </thead>\n",
       "  <tbody>\n",
       "    <tr>\n",
       "      <th>0</th>\n",
       "      <td>1.000000</td>\n",
       "      <td>-0.010171</td>\n",
       "      <td>-0.068103</td>\n",
       "      <td>-0.015572</td>\n",
       "      <td>-0.016316</td>\n",
       "      <td>-0.029882</td>\n",
       "      <td>0.009654</td>\n",
       "      <td>-0.016370</td>\n",
       "      <td>-0.007551</td>\n",
       "      <td>0.045091</td>\n",
       "    </tr>\n",
       "    <tr>\n",
       "      <th>1</th>\n",
       "      <td>-0.010171</td>\n",
       "      <td>1.000000</td>\n",
       "      <td>-0.007099</td>\n",
       "      <td>-0.005478</td>\n",
       "      <td>0.031386</td>\n",
       "      <td>-0.035002</td>\n",
       "      <td>0.036971</td>\n",
       "      <td>0.009322</td>\n",
       "      <td>0.051140</td>\n",
       "      <td>-0.009717</td>\n",
       "    </tr>\n",
       "    <tr>\n",
       "      <th>2</th>\n",
       "      <td>-0.068103</td>\n",
       "      <td>-0.007099</td>\n",
       "      <td>1.000000</td>\n",
       "      <td>0.047277</td>\n",
       "      <td>-0.006887</td>\n",
       "      <td>0.038011</td>\n",
       "      <td>-0.008302</td>\n",
       "      <td>-0.029974</td>\n",
       "      <td>0.014149</td>\n",
       "      <td>-0.066695</td>\n",
       "    </tr>\n",
       "    <tr>\n",
       "      <th>3</th>\n",
       "      <td>-0.015572</td>\n",
       "      <td>-0.005478</td>\n",
       "      <td>0.047277</td>\n",
       "      <td>1.000000</td>\n",
       "      <td>0.004733</td>\n",
       "      <td>0.012298</td>\n",
       "      <td>0.023168</td>\n",
       "      <td>0.033222</td>\n",
       "      <td>-0.014268</td>\n",
       "      <td>-0.049929</td>\n",
       "    </tr>\n",
       "    <tr>\n",
       "      <th>4</th>\n",
       "      <td>-0.016316</td>\n",
       "      <td>0.031386</td>\n",
       "      <td>-0.006887</td>\n",
       "      <td>0.004733</td>\n",
       "      <td>1.000000</td>\n",
       "      <td>0.020822</td>\n",
       "      <td>0.030233</td>\n",
       "      <td>-0.024307</td>\n",
       "      <td>0.011156</td>\n",
       "      <td>0.033403</td>\n",
       "    </tr>\n",
       "    <tr>\n",
       "      <th>5</th>\n",
       "      <td>-0.029882</td>\n",
       "      <td>-0.035002</td>\n",
       "      <td>0.038011</td>\n",
       "      <td>0.012298</td>\n",
       "      <td>0.020822</td>\n",
       "      <td>1.000000</td>\n",
       "      <td>0.019708</td>\n",
       "      <td>-0.039218</td>\n",
       "      <td>0.064840</td>\n",
       "      <td>-0.044626</td>\n",
       "    </tr>\n",
       "    <tr>\n",
       "      <th>6</th>\n",
       "      <td>0.009654</td>\n",
       "      <td>0.036971</td>\n",
       "      <td>-0.008302</td>\n",
       "      <td>0.023168</td>\n",
       "      <td>0.030233</td>\n",
       "      <td>0.019708</td>\n",
       "      <td>1.000000</td>\n",
       "      <td>-0.015950</td>\n",
       "      <td>0.004169</td>\n",
       "      <td>-0.023448</td>\n",
       "    </tr>\n",
       "    <tr>\n",
       "      <th>7</th>\n",
       "      <td>-0.016370</td>\n",
       "      <td>0.009322</td>\n",
       "      <td>-0.029974</td>\n",
       "      <td>0.033222</td>\n",
       "      <td>-0.024307</td>\n",
       "      <td>-0.039218</td>\n",
       "      <td>-0.015950</td>\n",
       "      <td>1.000000</td>\n",
       "      <td>0.017539</td>\n",
       "      <td>0.039320</td>\n",
       "    </tr>\n",
       "    <tr>\n",
       "      <th>8</th>\n",
       "      <td>-0.007551</td>\n",
       "      <td>0.051140</td>\n",
       "      <td>0.014149</td>\n",
       "      <td>-0.014268</td>\n",
       "      <td>0.011156</td>\n",
       "      <td>0.064840</td>\n",
       "      <td>0.004169</td>\n",
       "      <td>0.017539</td>\n",
       "      <td>1.000000</td>\n",
       "      <td>0.016253</td>\n",
       "    </tr>\n",
       "    <tr>\n",
       "      <th>9</th>\n",
       "      <td>0.045091</td>\n",
       "      <td>-0.009717</td>\n",
       "      <td>-0.066695</td>\n",
       "      <td>-0.049929</td>\n",
       "      <td>0.033403</td>\n",
       "      <td>-0.044626</td>\n",
       "      <td>-0.023448</td>\n",
       "      <td>0.039320</td>\n",
       "      <td>0.016253</td>\n",
       "      <td>1.000000</td>\n",
       "    </tr>\n",
       "  </tbody>\n",
       "</table>\n",
       "</div>"
      ],
      "text/plain": [
       "          0         1         2         3         4         5         6  \\\n",
       "0  1.000000 -0.010171 -0.068103 -0.015572 -0.016316 -0.029882  0.009654   \n",
       "1 -0.010171  1.000000 -0.007099 -0.005478  0.031386 -0.035002  0.036971   \n",
       "2 -0.068103 -0.007099  1.000000  0.047277 -0.006887  0.038011 -0.008302   \n",
       "3 -0.015572 -0.005478  0.047277  1.000000  0.004733  0.012298  0.023168   \n",
       "4 -0.016316  0.031386 -0.006887  0.004733  1.000000  0.020822  0.030233   \n",
       "5 -0.029882 -0.035002  0.038011  0.012298  0.020822  1.000000  0.019708   \n",
       "6  0.009654  0.036971 -0.008302  0.023168  0.030233  0.019708  1.000000   \n",
       "7 -0.016370  0.009322 -0.029974  0.033222 -0.024307 -0.039218 -0.015950   \n",
       "8 -0.007551  0.051140  0.014149 -0.014268  0.011156  0.064840  0.004169   \n",
       "9  0.045091 -0.009717 -0.066695 -0.049929  0.033403 -0.044626 -0.023448   \n",
       "\n",
       "          7         8         9  \n",
       "0 -0.016370 -0.007551  0.045091  \n",
       "1  0.009322  0.051140 -0.009717  \n",
       "2 -0.029974  0.014149 -0.066695  \n",
       "3  0.033222 -0.014268 -0.049929  \n",
       "4 -0.024307  0.011156  0.033403  \n",
       "5 -0.039218  0.064840 -0.044626  \n",
       "6 -0.015950  0.004169 -0.023448  \n",
       "7  1.000000  0.017539  0.039320  \n",
       "8  0.017539  1.000000  0.016253  \n",
       "9  0.039320  0.016253  1.000000  "
      ]
     },
     "execution_count": 7,
     "metadata": {},
     "output_type": "execute_result"
    }
   ],
   "source": [
    "df.corr()"
   ]
  },
  {
   "cell_type": "code",
   "execution_count": 8,
   "metadata": {},
   "outputs": [
    {
     "data": {
      "text/plain": [
       "0    float64\n",
       "1    float64\n",
       "2    float64\n",
       "3    float64\n",
       "4    float64\n",
       "5    float64\n",
       "6    float64\n",
       "7    float64\n",
       "8    float64\n",
       "9    float64\n",
       "dtype: object"
      ]
     },
     "execution_count": 8,
     "metadata": {},
     "output_type": "execute_result"
    }
   ],
   "source": [
    "df.dtypes"
   ]
  },
  {
   "cell_type": "code",
   "execution_count": null,
   "metadata": {},
   "outputs": [],
   "source": [
    "# Test PCA"
   ]
  },
  {
   "cell_type": "code",
   "execution_count": 14,
   "metadata": {},
   "outputs": [],
   "source": [
    "# Two modes to test with PCA\n",
    "# How many components we need in final output or how much variance do we need to capture as a percentage\n",
    "\n",
    "pca = PCA(n_components=0.9) # percentage of variance to capture\n",
    "#pca = PCA(n_components=2) # number of components"
   ]
  },
  {
   "cell_type": "code",
   "execution_count": 15,
   "metadata": {},
   "outputs": [
    {
     "data": {
      "text/plain": [
       "PCA(copy=True, iterated_power='auto', n_components=0.9, random_state=None,\n",
       "    svd_solver='auto', tol=0.0, whiten=False)"
      ]
     },
     "execution_count": 15,
     "metadata": {},
     "output_type": "execute_result"
    }
   ],
   "source": [
    "pca.fit(df)"
   ]
  },
  {
   "cell_type": "code",
   "execution_count": 16,
   "metadata": {},
   "outputs": [
    {
     "data": {
      "text/plain": [
       "9"
      ]
     },
     "execution_count": 16,
     "metadata": {},
     "output_type": "execute_result"
    }
   ],
   "source": [
    "# number of components PCA came up with\n",
    "pca.n_components_"
   ]
  },
  {
   "cell_type": "code",
   "execution_count": 17,
   "metadata": {},
   "outputs": [
    {
     "data": {
      "text/html": [
       "<div>\n",
       "<style scoped>\n",
       "    .dataframe tbody tr th:only-of-type {\n",
       "        vertical-align: middle;\n",
       "    }\n",
       "\n",
       "    .dataframe tbody tr th {\n",
       "        vertical-align: top;\n",
       "    }\n",
       "\n",
       "    .dataframe thead th {\n",
       "        text-align: right;\n",
       "    }\n",
       "</style>\n",
       "<table border=\"1\" class=\"dataframe\">\n",
       "  <thead>\n",
       "    <tr style=\"text-align: right;\">\n",
       "      <th></th>\n",
       "      <th>0</th>\n",
       "      <th>1</th>\n",
       "      <th>2</th>\n",
       "      <th>3</th>\n",
       "      <th>4</th>\n",
       "      <th>5</th>\n",
       "      <th>6</th>\n",
       "      <th>7</th>\n",
       "      <th>8</th>\n",
       "      <th>9</th>\n",
       "    </tr>\n",
       "  </thead>\n",
       "  <tbody>\n",
       "    <tr>\n",
       "      <th>0</th>\n",
       "      <td>0.221993</td>\n",
       "      <td>0.870732</td>\n",
       "      <td>0.206719</td>\n",
       "      <td>0.918611</td>\n",
       "      <td>0.488411</td>\n",
       "      <td>0.611744</td>\n",
       "      <td>0.765908</td>\n",
       "      <td>0.518418</td>\n",
       "      <td>0.296801</td>\n",
       "      <td>0.187721</td>\n",
       "    </tr>\n",
       "    <tr>\n",
       "      <th>1</th>\n",
       "      <td>0.080741</td>\n",
       "      <td>0.738440</td>\n",
       "      <td>0.441309</td>\n",
       "      <td>0.158310</td>\n",
       "      <td>0.879937</td>\n",
       "      <td>0.274086</td>\n",
       "      <td>0.414235</td>\n",
       "      <td>0.296080</td>\n",
       "      <td>0.628788</td>\n",
       "      <td>0.579838</td>\n",
       "    </tr>\n",
       "    <tr>\n",
       "      <th>2</th>\n",
       "      <td>0.599929</td>\n",
       "      <td>0.265819</td>\n",
       "      <td>0.284686</td>\n",
       "      <td>0.253588</td>\n",
       "      <td>0.327564</td>\n",
       "      <td>0.144164</td>\n",
       "      <td>0.165613</td>\n",
       "      <td>0.963931</td>\n",
       "      <td>0.960227</td>\n",
       "      <td>0.188415</td>\n",
       "    </tr>\n",
       "    <tr>\n",
       "      <th>3</th>\n",
       "      <td>0.024307</td>\n",
       "      <td>0.204556</td>\n",
       "      <td>0.699844</td>\n",
       "      <td>0.779515</td>\n",
       "      <td>0.022933</td>\n",
       "      <td>0.577663</td>\n",
       "      <td>0.001642</td>\n",
       "      <td>0.515473</td>\n",
       "      <td>0.639795</td>\n",
       "      <td>0.985624</td>\n",
       "    </tr>\n",
       "    <tr>\n",
       "      <th>4</th>\n",
       "      <td>0.259098</td>\n",
       "      <td>0.802497</td>\n",
       "      <td>0.870483</td>\n",
       "      <td>0.922750</td>\n",
       "      <td>0.002214</td>\n",
       "      <td>0.469488</td>\n",
       "      <td>0.981469</td>\n",
       "      <td>0.398945</td>\n",
       "      <td>0.813732</td>\n",
       "      <td>0.546456</td>\n",
       "    </tr>\n",
       "  </tbody>\n",
       "</table>\n",
       "</div>"
      ],
      "text/plain": [
       "          0         1         2         3         4         5         6  \\\n",
       "0  0.221993  0.870732  0.206719  0.918611  0.488411  0.611744  0.765908   \n",
       "1  0.080741  0.738440  0.441309  0.158310  0.879937  0.274086  0.414235   \n",
       "2  0.599929  0.265819  0.284686  0.253588  0.327564  0.144164  0.165613   \n",
       "3  0.024307  0.204556  0.699844  0.779515  0.022933  0.577663  0.001642   \n",
       "4  0.259098  0.802497  0.870483  0.922750  0.002214  0.469488  0.981469   \n",
       "\n",
       "          7         8         9  \n",
       "0  0.518418  0.296801  0.187721  \n",
       "1  0.296080  0.628788  0.579838  \n",
       "2  0.963931  0.960227  0.188415  \n",
       "3  0.515473  0.639795  0.985624  \n",
       "4  0.398945  0.813732  0.546456  "
      ]
     },
     "execution_count": 17,
     "metadata": {},
     "output_type": "execute_result"
    }
   ],
   "source": [
    "df.head()"
   ]
  },
  {
   "cell_type": "code",
   "execution_count": 18,
   "metadata": {},
   "outputs": [
    {
     "data": {
      "text/plain": [
       "array([[ 0.28785518, -0.08044738,  0.24957468, ...,  0.31448073,\n",
       "         0.28302158, -0.32265232],\n",
       "       [-0.00863067, -0.36817681,  0.04840754, ...,  0.08616637,\n",
       "         0.0359108 ,  0.01067538],\n",
       "       [-0.26406733,  0.10765481,  0.32950411, ...,  0.05930589,\n",
       "         0.27002476,  0.43645724],\n",
       "       ...,\n",
       "       [ 0.21391975,  0.21794533, -0.57616844, ..., -0.1608504 ,\n",
       "        -0.25210373,  0.30723125],\n",
       "       [ 0.0187493 ,  0.52070042, -0.01391376, ..., -0.13804123,\n",
       "         0.31326016,  0.06086482],\n",
       "       [-0.00091793,  0.19966785, -0.16966791, ..., -0.25599951,\n",
       "        -0.2042108 ,  0.01747299]])"
      ]
     },
     "execution_count": 18,
     "metadata": {},
     "output_type": "execute_result"
    }
   ],
   "source": [
    "pca.transform(df)"
   ]
  },
  {
   "cell_type": "code",
   "execution_count": 19,
   "metadata": {},
   "outputs": [],
   "source": [
    "def transform_with_pca(pca, df, columns):\n",
    "    transformed_data = pca.transform(df[columns])\n",
    "    \n",
    "    tcols = []\n",
    "    for i in range(pca.n_components_):       \n",
    "        tcols.append('component_' + str(i))\n",
    "    \n",
    "    print ('components:',tcols)\n",
    "    df_transformed = pd.DataFrame(transformed_data, columns=tcols)\n",
    "    \n",
    "    for col in df_transformed.columns:\n",
    "        df[col] = df_transformed[col]\n",
    "    \n",
    "    df.drop(columns, inplace=True, axis=1)\n",
    "    \n",
    "    return tcols"
   ]
  },
  {
   "cell_type": "code",
   "execution_count": 20,
   "metadata": {},
   "outputs": [
    {
     "name": "stdout",
     "output_type": "stream",
     "text": [
      "components: ['component_0', 'component_1', 'component_2', 'component_3', 'component_4', 'component_5', 'component_6', 'component_7', 'component_8']\n"
     ]
    },
    {
     "data": {
      "text/plain": [
       "['component_0',\n",
       " 'component_1',\n",
       " 'component_2',\n",
       " 'component_3',\n",
       " 'component_4',\n",
       " 'component_5',\n",
       " 'component_6',\n",
       " 'component_7',\n",
       " 'component_8']"
      ]
     },
     "execution_count": 20,
     "metadata": {},
     "output_type": "execute_result"
    }
   ],
   "source": [
    "transform_with_pca(pca,df, df.columns)"
   ]
  },
  {
   "cell_type": "code",
   "execution_count": 21,
   "metadata": {},
   "outputs": [
    {
     "data": {
      "text/html": [
       "<div>\n",
       "<style scoped>\n",
       "    .dataframe tbody tr th:only-of-type {\n",
       "        vertical-align: middle;\n",
       "    }\n",
       "\n",
       "    .dataframe tbody tr th {\n",
       "        vertical-align: top;\n",
       "    }\n",
       "\n",
       "    .dataframe thead th {\n",
       "        text-align: right;\n",
       "    }\n",
       "</style>\n",
       "<table border=\"1\" class=\"dataframe\">\n",
       "  <thead>\n",
       "    <tr style=\"text-align: right;\">\n",
       "      <th></th>\n",
       "      <th>component_0</th>\n",
       "      <th>component_1</th>\n",
       "      <th>component_2</th>\n",
       "      <th>component_3</th>\n",
       "      <th>component_4</th>\n",
       "      <th>component_5</th>\n",
       "      <th>component_6</th>\n",
       "      <th>component_7</th>\n",
       "      <th>component_8</th>\n",
       "    </tr>\n",
       "  </thead>\n",
       "  <tbody>\n",
       "    <tr>\n",
       "      <th>0</th>\n",
       "      <td>0.287855</td>\n",
       "      <td>-0.080447</td>\n",
       "      <td>0.249575</td>\n",
       "      <td>-0.482680</td>\n",
       "      <td>0.089045</td>\n",
       "      <td>0.142066</td>\n",
       "      <td>0.314481</td>\n",
       "      <td>0.283022</td>\n",
       "      <td>-0.322652</td>\n",
       "    </tr>\n",
       "    <tr>\n",
       "      <th>1</th>\n",
       "      <td>-0.008631</td>\n",
       "      <td>-0.368177</td>\n",
       "      <td>0.048408</td>\n",
       "      <td>-0.029248</td>\n",
       "      <td>-0.483864</td>\n",
       "      <td>-0.443418</td>\n",
       "      <td>0.086166</td>\n",
       "      <td>0.035911</td>\n",
       "      <td>0.010675</td>\n",
       "    </tr>\n",
       "    <tr>\n",
       "      <th>2</th>\n",
       "      <td>-0.264067</td>\n",
       "      <td>0.107655</td>\n",
       "      <td>0.329504</td>\n",
       "      <td>0.433550</td>\n",
       "      <td>0.299702</td>\n",
       "      <td>-0.107044</td>\n",
       "      <td>0.059306</td>\n",
       "      <td>0.270025</td>\n",
       "      <td>0.436457</td>\n",
       "    </tr>\n",
       "    <tr>\n",
       "      <th>3</th>\n",
       "      <td>0.117525</td>\n",
       "      <td>0.374161</td>\n",
       "      <td>0.303687</td>\n",
       "      <td>0.720273</td>\n",
       "      <td>-0.184429</td>\n",
       "      <td>-0.011993</td>\n",
       "      <td>-0.136169</td>\n",
       "      <td>-0.221403</td>\n",
       "      <td>-0.561130</td>\n",
       "    </tr>\n",
       "    <tr>\n",
       "      <th>4</th>\n",
       "      <td>0.464811</td>\n",
       "      <td>-0.151338</td>\n",
       "      <td>0.343986</td>\n",
       "      <td>-0.134883</td>\n",
       "      <td>0.433450</td>\n",
       "      <td>0.000799</td>\n",
       "      <td>-0.021157</td>\n",
       "      <td>-0.568048</td>\n",
       "      <td>-0.407248</td>\n",
       "    </tr>\n",
       "  </tbody>\n",
       "</table>\n",
       "</div>"
      ],
      "text/plain": [
       "   component_0  component_1  component_2  component_3  component_4  \\\n",
       "0     0.287855    -0.080447     0.249575    -0.482680     0.089045   \n",
       "1    -0.008631    -0.368177     0.048408    -0.029248    -0.483864   \n",
       "2    -0.264067     0.107655     0.329504     0.433550     0.299702   \n",
       "3     0.117525     0.374161     0.303687     0.720273    -0.184429   \n",
       "4     0.464811    -0.151338     0.343986    -0.134883     0.433450   \n",
       "\n",
       "   component_5  component_6  component_7  component_8  \n",
       "0     0.142066     0.314481     0.283022    -0.322652  \n",
       "1    -0.443418     0.086166     0.035911     0.010675  \n",
       "2    -0.107044     0.059306     0.270025     0.436457  \n",
       "3    -0.011993    -0.136169    -0.221403    -0.561130  \n",
       "4     0.000799    -0.021157    -0.568048    -0.407248  "
      ]
     },
     "execution_count": 21,
     "metadata": {},
     "output_type": "execute_result"
    }
   ],
   "source": [
    "df.head()"
   ]
  },
  {
   "cell_type": "markdown",
   "metadata": {},
   "source": [
    "## Summary\n",
    "\n",
    "1.\tWith random datasets, not much reduction is possible\n",
    "2.\tWe are capturing 90% variance and PCA came up 9 components\n",
    "3.\tIn the next demo, let’s look a dataset that has related features.\n"
   ]
  },
  {
   "cell_type": "code",
   "execution_count": null,
   "metadata": {},
   "outputs": [],
   "source": []
  }
 ],
 "metadata": {
  "kernelspec": {
   "display_name": "Python 3",
   "language": "python",
   "name": "python3"
  },
  "language_info": {
   "codemirror_mode": {
    "name": "ipython",
    "version": 3
   },
   "file_extension": ".py",
   "mimetype": "text/x-python",
   "name": "python",
   "nbconvert_exporter": "python",
   "pygments_lexer": "ipython3",
   "version": "3.7.2"
  }
 },
 "nbformat": 4,
 "nbformat_minor": 1
}
